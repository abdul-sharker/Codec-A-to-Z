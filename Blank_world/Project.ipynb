{
 "cells": [
  {
   "cell_type": "markdown",
   "id": "3f39d72f-3aab-484b-a367-2d758befdb10",
   "metadata": {
    "jp-MarkdownHeadingCollapsed": true
   },
   "source": [
    "#### Tasks to do"
   ]
  },
  {
   "cell_type": "markdown",
   "id": "3a0d09ca-36db-4d2d-b158-765798435148",
   "metadata": {},
   "source": [
    "## Beginner Level"
   ]
  },
  {
   "cell_type": "code",
   "execution_count": 2,
   "id": "f06b303b-dbb7-4339-8ae8-74f18836cc69",
   "metadata": {},
   "outputs": [
    {
     "name": "stdout",
     "output_type": "stream",
     "text": [
      "Hello\t World\n"
     ]
    }
   ],
   "source": [
    "O=\"Hello\\t World\"\n",
    "print(O)"
   ]
  },
  {
   "cell_type": "markdown",
   "id": "8c8b21ff-b2e4-4c4e-bcc7-a1800e8eefcc",
   "metadata": {
    "jp-MarkdownHeadingCollapsed": true
   },
   "source": [
    "### Calculator"
   ]
  },
  {
   "cell_type": "code",
   "execution_count": 11,
   "id": "f86dada3-351d-4a9a-a8df-fae886ffcfc6",
   "metadata": {},
   "outputs": [
    {
     "name": "stdin",
     "output_type": "stream",
     "text": [
      "\n",
      "Please enter the operation to do:\n",
      " /\n",
      "Enter the dividened value:\n",
      " 27\n",
      "Enter diviser value:\n",
      " 9\n"
     ]
    },
    {
     "name": "stdout",
     "output_type": "stream",
     "text": [
      "The dividation result is :\t3.0\n"
     ]
    }
   ],
   "source": [
    "operator=str(input(\"\\nPlease enter the operation to do:\\n\"))\n",
    "\n",
    "\n",
    "if operator==\"+\":\n",
    "    v1=float(input(\"Enter The first value to add:\\n\"))\n",
    "    v2=float(input(\"Enter The value to be added:\\n\"))\n",
    "    result=v1+v2\n",
    "    print( f\"The addition result is :\\t{result}\")\n",
    "elif operator==\"-\":\n",
    "    \n",
    "    v1=float(input(\"Enter The first value:\\n\"))\n",
    "    v2=float(input(\"Enter The value to be subtracted:\\n\"))\n",
    "    result=v1-v2\n",
    "    print( f\"The subtraction result is :\\t{result}\")\n",
    "elif operator==\"*\":\n",
    "    v1=float(input(\"Enter the value to be multiplied:\\n\"))\n",
    "    v2=float(input(\"Enter multiplier value:\\n\"))\n",
    "    result=v1*v2\n",
    "    print( f\"The multiplication result is :\\t{result}\")\n",
    "elif operator==\"/\":\n",
    "    v1=float(input(\"Enter the dividened value:\\n\"))\n",
    "    v2=float(input(\"Enter diviser value:\\n\"))\n",
    "    result=v1/v2\n",
    "    print( f\"The dividation result is :\\t{result}\")\n",
    "          "
   ]
  },
  {
   "cell_type": "markdown",
   "id": "96022b90-0c77-49bc-bbbc-89d69c33a164",
   "metadata": {},
   "source": [
    "### Function to check if the given number is even or odd"
   ]
  },
  {
   "cell_type": "code",
   "execution_count": 14,
   "id": "c36d1912-2c8d-4061-aa0b-f57d5a3e0bcb",
   "metadata": {},
   "outputs": [
    {
     "name": "stdin",
     "output_type": "stream",
     "text": [
      "Enter your your number to be checked:\n",
      " 2888998\n"
     ]
    },
    {
     "data": {
      "text/plain": [
       "'It is an even number'"
      ]
     },
     "execution_count": 14,
     "metadata": {},
     "output_type": "execute_result"
    }
   ],
   "source": [
    "def even_odd(num):\n",
    "    if num%2==0:\n",
    "        return f\"It is an even number\"\n",
    "    else:\n",
    "        return f\"It is a odd number\"\n",
    "number=int(input(\"Enter your your number to be checked:\\n\"))\n",
    "even_odd(number)"
   ]
  },
  {
   "cell_type": "markdown",
   "id": "b97f9edb-ffc8-4d65-b2f4-bcdf48377f49",
   "metadata": {
    "jp-MarkdownHeadingCollapsed": true
   },
   "source": [
    "### List operations"
   ]
  },
  {
   "cell_type": "code",
   "execution_count": 23,
   "id": "9bef02d1-16a8-4e33-843b-e0547002b824",
   "metadata": {},
   "outputs": [
    {
     "name": "stdout",
     "output_type": "stream",
     "text": [
      "[5, 6, 7, 12, 22, 34, 46, 56, 66, 78, 434, 444, 777, 3344, 5543, 7534, 8889]\n"
     ]
    }
   ],
   "source": [
    "list1=list((12,3344,34,5,6,66,434,56,7,7534,444,46,777,78,8889,5543,22))\n",
    "#print(list1)\n",
    "list1=sorted(list1)\n",
    "print(list1)"
   ]
  },
  {
   "cell_type": "code",
   "execution_count": 25,
   "id": "1181fedf-76da-4818-9165-a887db66f1cf",
   "metadata": {},
   "outputs": [
    {
     "name": "stdout",
     "output_type": "stream",
     "text": [
      "[8889, 7534, 5543, 3344, 777, 444, 434, 78, 66, 56, 46, 34, 22, 12, 7, 6, 5]\n"
     ]
    }
   ],
   "source": [
    "list2=list(reversed(list1))\n",
    "print(list2)"
   ]
  },
  {
   "cell_type": "code",
   "execution_count": 28,
   "id": "681a7da6-58bd-4876-adbd-d1e353abd7bb",
   "metadata": {},
   "outputs": [
    {
     "name": "stdout",
     "output_type": "stream",
     "text": [
      "The max value is 8889 \t & \n",
      " The minimum value in the list is 5\n"
     ]
    }
   ],
   "source": [
    "mx=max(list1)\n",
    "mn=min(list1)\n",
    "print(f\"The max value is {mx} \\t & \\n \\b The minimum value in the list is {mn}\")"
   ]
  },
  {
   "cell_type": "markdown",
   "id": "f54fc2ff-26ae-4ead-9983-352b7ef875b1",
   "metadata": {
    "jp-MarkdownHeadingCollapsed": true
   },
   "source": [
    "### Simple Interest Calculator"
   ]
  },
  {
   "cell_type": "code",
   "execution_count": 32,
   "id": "5d68999d-9f54-4c27-ad2e-22adf51d4c43",
   "metadata": {},
   "outputs": [
    {
     "name": "stdin",
     "output_type": "stream",
     "text": [
      "Please enter the principal amount: 100\n",
      "Please enter you rate in percentage: 10\n",
      "Please enter the time period in years: 1\n"
     ]
    },
    {
     "data": {
      "text/plain": [
       "'The simple interest is :10.0'"
      ]
     },
     "execution_count": 32,
     "metadata": {},
     "output_type": "execute_result"
    }
   ],
   "source": [
    "def simple_interest(p,n,r):\n",
    "    i=p*n*r\n",
    "    return f\"The simple interest is :{i}\"\n",
    "principal=float(input(\"Please enter the principal amount:\"))\n",
    "rate=float(input(\"Please enter you rate in percentage:\"))\n",
    "rate=rate/100\n",
    "time=float(input(\"Please enter the time period in years:\"))\n",
    "simple_interest(principal,rate,time)"
   ]
  },
  {
   "cell_type": "markdown",
   "id": "9e521fec-6b62-4c3f-b465-fe8be9fce9a0",
   "metadata": {},
   "source": [
    "## Intermediate level"
   ]
  },
  {
   "cell_type": "markdown",
   "id": "75bccb13-d8b5-415d-a892-94bc64ad1dc9",
   "metadata": {
    "jp-MarkdownHeadingCollapsed": true
   },
   "source": [
    "##### Palionmdrome"
   ]
  },
  {
   "cell_type": "code",
   "execution_count": null,
   "id": "d40c7a75-c9f5-4050-bcce-cf6ca0df9134",
   "metadata": {},
   "outputs": [],
   "source": [
    "def _paliondrome(w):\n",
    "    return w==w[::-1]\n",
    "strng=input(\"Enter your word to check paliondrome or not:\")\n",
    "\n",
    "if _paliondrome(strng):\n",
    "    print(f\"The given word \\\"{strng}\\\" is a paliondrome\")\n",
    "else:\n",
    "    print(f\"The word \\\"{strng}\\\" is not a paliondrome\")"
   ]
  },
  {
   "cell_type": "code",
   "execution_count": null,
   "id": "81d7fa69-1404-4c4b-8ccf-e47fc22fd1e9",
   "metadata": {},
   "outputs": [],
   "source": [
    "def put_input(i):\n",
    "    x=0\n",
    "    words=[]\n",
    "    for x in range(i):\n",
    "        s=input()\n",
    "        words.append(s)\n",
    "        x=x+1\n",
    "    return words\n",
    "v=int(input(\"How many words do you want to check?\"))\n",
    "words=put_input(v)\n",
    "\n",
    "print(words)"
   ]
  },
  {
   "cell_type": "code",
   "execution_count": null,
   "id": "3dc68579-0b5a-483e-883f-61842bd8cc7c",
   "metadata": {},
   "outputs": [],
   "source": [
    "def _paliondrome(w):\n",
    "    k=w.lower()\n",
    "    return k==k[::-1]"
   ]
  },
  {
   "cell_type": "code",
   "execution_count": null,
   "id": "473ef020-6068-4ca8-97de-35efbfd25710",
   "metadata": {},
   "outputs": [],
   "source": [
    "for strng in words:\n",
    "    if _paliondrome(strng):\n",
    "        print(f\"The given word \\\"{strng}\\\" is a paliondrome\")\n",
    "    else:\n",
    "        print(f\"The word \\\"{strng}\\\" is not a paliondrome\")"
   ]
  },
  {
   "cell_type": "markdown",
   "id": "e84be341-1933-4478-9d0a-245cfdb2e44a",
   "metadata": {},
   "source": [
    "##### Fibonacci"
   ]
  },
  {
   "cell_type": "code",
   "execution_count": null,
   "id": "4c4f27f1-03d8-4a60-8103-6c3edc64fe6b",
   "metadata": {},
   "outputs": [],
   "source": [
    "\n",
    "def fibonacci(n):\n",
    "    seq=[0,1]\n",
    "    for x in range(2,n):\n",
    "        seq.append(seq[-1]+seq[-2])\n",
    "    \n",
    "    return seq[:n]\n",
    "number=int(input(\"Enter the number for your fibonacci sequence:\"))\n",
    "print(fibonacci(number))\n",
    "        "
   ]
  },
  {
   "cell_type": "markdown",
   "id": "87fe9164-5a7f-4177-845a-7a23fefde113",
   "metadata": {},
   "source": [
    "##### Prime number checker"
   ]
  },
  {
   "cell_type": "code",
   "execution_count": null,
   "id": "5576544e-842a-4256-9677-d995d7a900c9",
   "metadata": {},
   "outputs": [],
   "source": [
    "def prime_number(n):\n",
    "    m=2\n",
    "    quotient=[]\n",
    "    for x in range(2,n):\n",
    "        if n%m==0:\n",
    "            quotient.append(m)\n",
    "     \n",
    "    if len(quotient)==0:\n",
    "        return f\"The number is a prime number\"\n",
    "    else:\n",
    "        return f\" It is not a prime number\"\n",
    "\n",
    "\n",
    "num=int(input(\"Enter your number to be checked:\\t \"))\n",
    "prime_number(num)"
   ]
  },
  {
   "cell_type": "markdown",
   "id": "56c71b78-90e2-4140-ac1f-a17588d20b8c",
   "metadata": {},
   "source": [
    "##### word count"
   ]
  },
  {
   "cell_type": "code",
   "execution_count": 1,
   "id": "b92d3ab6-001b-4a34-bcbb-84df3cd7f76a",
   "metadata": {},
   "outputs": [
    {
     "name": "stdin",
     "output_type": "stream",
     "text": [
      "Enter your sentence: i am\n"
     ]
    },
    {
     "name": "stdout",
     "output_type": "stream",
     "text": [
      "The total number of words in the sentence is 2\n"
     ]
    }
   ],
   "source": [
    "sen=str(input(\"Enter your sentence:\"))\n",
    "wd=sen.split()\n",
    "print(f\"The total number of words in the sentence is {len(wd)}\")"
   ]
  },
  {
   "cell_type": "markdown",
   "id": "99719cc1-c450-42c5-a2f9-f915849e198c",
   "metadata": {},
   "source": [
    "##### *Word count*"
   ]
  },
  {
   "cell_type": "code",
   "execution_count": 1,
   "id": "7099594a-3c11-4b93-80c7-8e76a6d16990",
   "metadata": {
    "scrolled": true
   },
   "outputs": [
    {
     "name": "stdin",
     "output_type": "stream",
     "text": [
      "Enter your sentence: Hi there!\n"
     ]
    },
    {
     "name": "stdout",
     "output_type": "stream",
     "text": [
      "The word count is 2\n"
     ]
    }
   ],
   "source": [
    "def word_count(sentence):\n",
    "    words=sentence.split()\n",
    "    count=len(words)\n",
    "    return count\n",
    "\n",
    "sentence=input(\"Enter your sentence:\")\n",
    "\n",
    "count=word_count(sentence)\n",
    "print(f\"The word count is {count}\")\n",
    "\n",
    "    "
   ]
  },
  {
   "cell_type": "markdown",
   "id": "1bcf6dcd-71be-4661-b946-af54eea78e68",
   "metadata": {},
   "source": [
    "##### *Contact Book*"
   ]
  },
  {
   "cell_type": "code",
   "execution_count": 1,
   "id": "16387544-48da-49f2-bb67-8bf7a17a2388",
   "metadata": {},
   "outputs": [
    {
     "name": "stdout",
     "output_type": "stream",
     "text": [
      "Contact Book Menu\n",
      "1. Add Contact\n",
      "2. Search Contact\n",
      "3. Delete Contact\n",
      "4. Update Contact\n",
      "5. Display Contact\n",
      "6. Exit\n"
     ]
    },
    {
     "name": "stdin",
     "output_type": "stream",
     "text": [
      "Enter your option from the menu: 5\n"
     ]
    },
    {
     "name": "stdout",
     "output_type": "stream",
     "text": [
      "No Contacts Found\n",
      "Contact Book Menu\n",
      "1. Add Contact\n",
      "2. Search Contact\n",
      "3. Delete Contact\n",
      "4. Update Contact\n",
      "5. Display Contact\n",
      "6. Exit\n"
     ]
    },
    {
     "name": "stdin",
     "output_type": "stream",
     "text": [
      "Enter your option from the menu: o\n"
     ]
    },
    {
     "name": "stdout",
     "output_type": "stream",
     "text": [
      "Invalid command. Try again\n",
      "Contact Book Menu\n",
      "1. Add Contact\n",
      "2. Search Contact\n",
      "3. Delete Contact\n",
      "4. Update Contact\n",
      "5. Display Contact\n",
      "6. Exit\n"
     ]
    },
    {
     "name": "stdin",
     "output_type": "stream",
     "text": [
      "Enter your option from the menu: 6\n"
     ]
    },
    {
     "name": "stdout",
     "output_type": "stream",
     "text": [
      "Exiting the Contact Book\n"
     ]
    }
   ],
   "source": [
    "contact_book={}\n",
    "def add_contact(name,phone):\n",
    "    contact_book[name]=phone\n",
    "    print(f\"Contact {name} added.\")\n",
    "\n",
    "\n",
    "def del_contact(name):\n",
    "    if name in contact_book:\n",
    "        del contact_book[name]\n",
    "        print(f\"Contact {name} has been deleted\")\n",
    "    else:\n",
    "        print(f\"Contact {name} is not found\")\n",
    "\n",
    "\n",
    "def search_contact(name):\n",
    "    if name in contact_book:\n",
    "        print(f\"{name}:{contact_book[name]}\")\n",
    "    else:\n",
    "        print(f\"Contact {name} is not found\")\n",
    "\n",
    "\n",
    "def display_contacts():\n",
    "    if contact_book:\n",
    "        print(\"All contacts\")\n",
    "        for name,phone in contact_book.items():\n",
    "            print(f\"{name}:{phone}\")\n",
    "    else:\n",
    "        print(\"No Contacts Found\")\n",
    "def update_contact(name,new_phone):\n",
    "    if name in contact_book:\n",
    "        contact_book[name]=new_phone\n",
    "        print(f\"Contact {name} has been updated\")\n",
    "    else:\n",
    "        print(f\"Contact {name} is not found\")\n",
    "while True:\n",
    "    print(\"Contact Book Menu\")\n",
    "    print(\"1. Add Contact\")\n",
    "    print(\"2. Search Contact\")\n",
    "    print(\"3. Delete Contact\")\n",
    "    print(\"4. Update Contact\")\n",
    "    print(\"5. Display Contact\")\n",
    "    print(\"6. Exit\")\n",
    "\n",
    "    choice=input(\"Enter your option from the menu:\")\n",
    "\n",
    "    if choice == '1':\n",
    "        name=input(\"Enter the contact name:\\n\")\n",
    "        phone=input(\"Enter the phone number: \\n\")\n",
    "        add_contact(name,phone)\n",
    "    elif choice == '2':\n",
    "        name=input(\"Enter the contact name:\\n\")\n",
    "        search_contact(name)\n",
    "    elif choice == '3':\n",
    "        name=input(\"Enter the contact name:\\n\")\n",
    "        del_contact(name)\n",
    "    elif choice == '4':\n",
    "        name=input(\"Enter the contact name:\\n\")\n",
    "        new_phone=(\"Enter the new phone: \\n\")\n",
    "        update_contact(name,new_phone)\n",
    "    elif choice == '5':\n",
    "        display_contacts()\n",
    "    elif choice == '6':\n",
    "        print(\"Exiting the Contact Book\")\n",
    "        break\n",
    "    else:\n",
    "        print(\"Invalid command. Try again\")\n",
    "        "
   ]
  },
  {
   "cell_type": "markdown",
   "id": "75e603b3-2729-468d-b37b-479c4b59b41b",
   "metadata": {},
   "source": [
    "##### **To-Do list**"
   ]
  },
  {
   "cell_type": "code",
   "execution_count": 1,
   "id": "c5336b36-5e0e-4042-ac09-c94afcd5aabc",
   "metadata": {},
   "outputs": [
    {
     "name": "stdout",
     "output_type": "stream",
     "text": [
      "To-Do list Menu\n",
      "1. Add Task\n",
      "2. View Task\n",
      "3. Remove Task\n",
      "4. Exit\n"
     ]
    },
    {
     "name": "stdin",
     "output_type": "stream",
     "text": [
      "Choose an option between (1-4): 2\n"
     ]
    },
    {
     "name": "stdout",
     "output_type": "stream",
     "text": [
      "\n",
      "Your To-Do List\n",
      "\n",
      "1. homework\n",
      "2. coding\n",
      "\n",
      "\n",
      "To-Do list Menu\n",
      "1. Add Task\n",
      "2. View Task\n",
      "3. Remove Task\n",
      "4. Exit\n"
     ]
    },
    {
     "name": "stdin",
     "output_type": "stream",
     "text": [
      "Choose an option between (1-4): 4\n"
     ]
    },
    {
     "name": "stdout",
     "output_type": "stream",
     "text": [
      "\n",
      " Stay producticve. Goodbye!\n",
      "\n"
     ]
    }
   ],
   "source": [
    "import os\n",
    "\n",
    "FILENAME=\"tasks.txt\"\n",
    "\n",
    "todo_list=[]\n",
    "\n",
    "def load_tasks():\n",
    "    if os.path.exists(FILENAME):\n",
    "        with open(FILENAME,\"r\") as file:\n",
    "            for line in file:\n",
    "                todo_list.append(line.strip())\n",
    "\n",
    "\n",
    "def save_tasks():\n",
    "    with open(FILENAME,\"w\") as file:\n",
    "        for task in todo_list:\n",
    "            file.write(task + \"\\n\")\n",
    "\n",
    "\n",
    "def add_task(task):\n",
    "    todo_list.append(task)\n",
    "    save_tasks()\n",
    "    print(f\"\\n\\\"{task}\\\"added\\n\")\n",
    "\n",
    "\n",
    "def remove_task(index):\n",
    "    if 0<=index<len(todo_list):\n",
    "        removed=todo_list.pop(index)\n",
    "        save_tasks()\n",
    "        print(f\"\\n\\\"{removed}\\\" removed\\n\")\n",
    "    else:\n",
    "        print(\"\\nInvalid index given. Try again\\n\")\n",
    "\n",
    "def view_task():\n",
    "    if todo_list:\n",
    "        print(\"\\nYour To-Do List\\n\")\n",
    "        for i,task in enumerate(todo_list,1):\n",
    "            print(f\"{i}. {task}\")\n",
    "\n",
    "        print(\"\\n\")\n",
    "    else:\n",
    "        print(\"\\n No task in your list\\n\")\n",
    "\n",
    "\n",
    "load_tasks()\n",
    "\n",
    "\n",
    "while True:\n",
    "    print(\"To-Do list Menu\")\n",
    "    print(\"1. Add Task\")\n",
    "    print(\"2. View Task\")\n",
    "    print(\"3. Remove Task\")\n",
    "    print(\"4. Exit\")\n",
    "\n",
    "    choice=input(\"Choose an option between (1-4):\")\n",
    "\n",
    "\n",
    "    if choice == '1':\n",
    "        task=input(\"Enter your task:\")\n",
    "        add_task(task)\n",
    "    elif choice == '2':\n",
    "        view_task()\n",
    "\n",
    "    elif choice == '3':\n",
    "        view_task()\n",
    "        try:\n",
    "            index=int(input(\"Enter the task number of the task to be removed:\")) -1\n",
    "            remove_task(index)\n",
    "\n",
    "        except ValueError:\n",
    "            print(\"\\n Enter a valid number\\n\")\n",
    "    \n",
    "    \n",
    "    \n",
    "    elif choice =='4':\n",
    "        print(\"\\n Stay producticve. Goodbye!\\n\")\n",
    "        break\n",
    "\n",
    "    else:\n",
    "\n",
    "        print(\"\\n Invalid option. Try again\\n\")\n",
    "\n",
    "            \n",
    "        \n",
    "        \n",
    "    "
   ]
  },
  {
   "cell_type": "markdown",
   "id": "0cb81532-cb83-43f9-98ce-9ffa3b810bae",
   "metadata": {},
   "source": [
    "##### **File I/O**"
   ]
  },
  {
   "cell_type": "code",
   "execution_count": 1,
   "id": "bf9884d4-6f0f-407b-9ccb-98acdaaf71a4",
   "metadata": {},
   "outputs": [
    {
     "name": "stdout",
     "output_type": "stream",
     "text": [
      "\n",
      " File:\tC:/Users/hp/Desktop/Python_Practice/My_text.txt\n",
      "\n",
      " Most frequent word: \"you\"  \n",
      " Appears: \"3\" times \n",
      "\n"
     ]
    }
   ],
   "source": [
    "import string\n",
    "from collections import Counter\n",
    "from tkinter import Tk, filedialog\n",
    "\n",
    "\n",
    "def most_frequent_word():\n",
    "\n",
    "    root=Tk()\n",
    "    root.withdraw()\n",
    "    file_path=filedialog.askopenfilename(\n",
    "    title=\"Select a text file\",\n",
    "    filetypes=[(\"Text files\",\"*.txt\"),(\"All files\",\"*.*\")]\n",
    "    )\n",
    "\n",
    "    if not file_path:\n",
    "        print(\"No file selected\")\n",
    "        return\n",
    "    \n",
    "    \n",
    "    try:\n",
    "        with open (file_path,'r') as file:\n",
    "            text=file.read()\n",
    "    \n",
    "            text=text.translate(str.maketrans('','',string.punctuation)).lower()\n",
    "\n",
    "\n",
    "\n",
    "            words=text.split()\n",
    "\n",
    "            word_counter=Counter(words)\n",
    "\n",
    "            most_common_w = word_counter.most_common(1)[0]\n",
    "\n",
    "            print(f\"\\n File:\\t{file_path}\\n\")\n",
    "\n",
    "            print(f\" Most frequent word: \\\"{most_common_w[0]}\\\"  \\n Appears: \\\"{most_common_w[1]}\\\" times \\n\")\n",
    "\n",
    "\n",
    "    except Exception as e:\n",
    "        print(f\"Error: {e}\")\n",
    "\n",
    "\n",
    "most_frequent_word()\n"
   ]
  },
  {
   "cell_type": "markdown",
   "id": "9c962509-0d9c-4fb3-9c30-a5a767eb8414",
   "metadata": {},
   "source": [
    "##### **URL Shortner**"
   ]
  },
  {
   "cell_type": "code",
   "execution_count": 1,
   "id": "5abddf8e-c8d6-4a8b-b2b9-57dfd7231186",
   "metadata": {},
   "outputs": [
    {
     "name": "stdout",
     "output_type": "stream",
     "text": [
      "\n",
      " Shorten URL Menu \n",
      "1.Shorten a URL \n",
      "2.Retrieve a URL \n",
      "3.View all mappings \n",
      "4.Exit \n",
      "\n"
     ]
    },
    {
     "name": "stdin",
     "output_type": "stream",
     "text": [
      "Enter your option:\n",
      " 3\n"
     ]
    },
    {
     "name": "stdout",
     "output_type": "stream",
     "text": [
      "\n",
      " All URL Mappings\n",
      "https://short.url/vUVGjx\t=>\tww.yts.mx\n",
      "\n",
      "https://short.url/3VdcJy\t=>\twww.yts.mx\n",
      "\n",
      "\n",
      " Shorten URL Menu \n",
      "1.Shorten a URL \n",
      "2.Retrieve a URL \n",
      "3.View all mappings \n",
      "4.Exit \n",
      "\n"
     ]
    },
    {
     "name": "stdin",
     "output_type": "stream",
     "text": [
      "Enter your option:\n",
      " 4\n"
     ]
    },
    {
     "name": "stdout",
     "output_type": "stream",
     "text": [
      "Have a great Day!\n"
     ]
    }
   ],
   "source": [
    "import random\n",
    "import string\n",
    "\n",
    "import json\n",
    "import os\n",
    "\n",
    "Data_file=\"URL_data.json\"\n",
    "\n",
    "def load_data():\n",
    "    if os.path.exists(Data_file):\n",
    "        with open(Data_file,'r') as file:\n",
    "            return json.load(file)\n",
    "    return{}\n",
    "\n",
    "def save_data(data):\n",
    "    with open(Data_file,'w') as file:\n",
    "        json.dump(data,file,indent=2)\n",
    "\n",
    "\n",
    "def generate_short_code(length=6):\n",
    "\n",
    "    return ''.join(random.choices(string.ascii_letters+string.digits,k=length))\n",
    "\n",
    "def shorten_url(original_url,database):\n",
    "    for code,url in database.items():\n",
    "        if url==original_url:\n",
    "            print(f\"\\n This URL is already shortened: https://short.url/{code}\")\n",
    "            return code\n",
    "\n",
    "\n",
    "    short_code=generate_short_code()\n",
    "\n",
    "    while short_code in database:\n",
    "\n",
    "        short_code=generate_short_code()\n",
    "\n",
    "    database[short_code]=original_url\n",
    "    save_data(database)\n",
    "    print(f\"\\n Shorten URL:\\t https://short.url/{short_code}\")\n",
    "    \n",
    "    return short_code\n",
    "\n",
    "                    \n",
    "\n",
    "def retrieve_url(short_code,database):\n",
    "\n",
    "\n",
    "    url=database.get(short_code)\n",
    "\n",
    "    if url:\n",
    "        print(f\"\\n Original URL:\\t{url}\")\n",
    "    else:\n",
    "        print(\"Short code not found\")\n",
    "\n",
    "\n",
    "def main():\n",
    "    url_database=load_data()\n",
    "    \n",
    "    while True:\n",
    "        print(f\"\\n Shorten URL Menu \\n1.Shorten a URL \\n2.Retrieve a URL \\n3.View all mappings \\n4.Exit \\n\")\n",
    "    \n",
    "        choice=input(\"Enter your option:\\n\")\n",
    "    \n",
    "        if choice=='1':\n",
    "            long_url=input(\"Enter the url to be shortened:\\t\")\n",
    "            shorten_url(long_url,url_database)\n",
    "    \n",
    "        elif choice=='2':\n",
    "    \n",
    "            code=input(\"Enter the short code:\\t\")\n",
    "            retrieve_url(code,url_database)\n",
    "    \n",
    "        elif choice=='3':\n",
    "    \n",
    "            if url_database:\n",
    "                print(\"\\n All URL Mappings\")\n",
    "                for m,n in url_database.items():\n",
    "                    print(f\"https://short.url/{m}\\t=>\\t{n}\\n\")\n",
    "            else:\n",
    "                print(\"No URL shortened yet\")\n",
    "    \n",
    "        elif choice=='4':\n",
    "    \n",
    "            print(\"Have a great Day!\")\n",
    "    \n",
    "            break\n",
    "        else:\n",
    "    \n",
    "            print(\"Invalid option. Try again.\")\n",
    "    \n",
    "if __name__ == \"__main__\":\n",
    "     main()"
   ]
  },
  {
   "cell_type": "markdown",
   "id": "90de9138-93be-42a3-a96e-c43601044577",
   "metadata": {},
   "source": [
    "##### **API Integration**"
   ]
  },
  {
   "cell_type": "code",
   "execution_count": 1,
   "id": "0539541e-9d99-497f-b6a5-ceac39024aab",
   "metadata": {},
   "outputs": [
    {
     "name": "stdout",
     "output_type": "stream",
     "text": [
      "\n",
      "Joke:Java is like Alzheimer's, it starts off slow, but eventually, your memory is gone.\n"
     ]
    }
   ],
   "source": [
    "import requests\n",
    "\n",
    "\n",
    "def get_random_joke():\n",
    "    url=\"https://v2.jokeapi.dev/joke/Any\"\n",
    "\n",
    "    try:\n",
    "        response = requests.get(url)\n",
    "        data = response.json()\n",
    "\n",
    "        if data[\"type\"]==\"single\":\n",
    "            print(f\"\\nJoke:{data['joke']}\")\n",
    "\n",
    "        else:\n",
    "            print(f\"{data['setup']}\\n{data['delivery']}\")\n",
    "\n",
    "    except requests.exceptions.RequestException as e:\n",
    "        print(\"Error fetching data from API\",e)\n",
    "\n",
    "get_random_joke()"
   ]
  },
  {
   "cell_type": "markdown",
   "id": "0abf8ca1-a6ed-4da8-9c64-c61f512bf29d",
   "metadata": {},
   "source": [
    "#### **Tic-tac-toe**"
   ]
  },
  {
   "cell_type": "code",
   "execution_count": null,
   "id": "a379e765-58ce-440f-b00c-f82962780a91",
   "metadata": {},
   "outputs": [],
   "source": [
    "import tkinter as tk\n",
    "from tkinter import messagebox\n",
    "import random\n",
    "\n",
    "class TicTacToeAI:\n",
    "    def __init__(self, root):\n",
    "        self.root = root\n",
    "        self.root.title(\"Tic-Tac-Toe vs AI\")\n",
    "\n",
    "        self.board = [\"\"] * 9\n",
    "        self.buttons = []\n",
    "\n",
    "        self.create_board()\n",
    "\n",
    "    def create_board(self):\n",
    "        for i in range(9):\n",
    "            button = tk.Button(self.root, text=\"\", font=('Arial', 24), width=5, height=2,\n",
    "                               command=lambda i=i: self.player_move(i))\n",
    "            button.grid(row=i // 3, column=i % 3)\n",
    "            self.buttons.append(button)\n",
    "\n",
    "    def player_move(self, index):\n",
    "        if self.board[index] == \"\":\n",
    "            self.board[index] = \"X\"\n",
    "            self.buttons[index].config(text=\"X\")\n",
    "            if self.check_game_over(\"X\"):\n",
    "                return\n",
    "            self.root.after(500, self.ai_move)\n",
    "\n",
    "    def ai_move(self):\n",
    "        index = self.best_move()\n",
    "        if index is not None:\n",
    "            self.board[index] = \"O\"\n",
    "            self.buttons[index].config(text=\"O\")\n",
    "            self.check_game_over(\"O\")\n",
    "\n",
    "    def best_move(self):\n",
    "        # Try to win\n",
    "        for i in self.available_moves():\n",
    "            self.board[i] = \"O\"\n",
    "            if self.check_winner(\"O\"):\n",
    "                self.board[i] = \"\"\n",
    "                return i\n",
    "            self.board[i] = \"\"\n",
    "\n",
    "        \n",
    "        for i in self.available_moves():\n",
    "            self.board[i] = \"X\"\n",
    "            if self.check_winner(\"X\"):\n",
    "                self.board[i] = \"\"\n",
    "                return i\n",
    "            self.board[i] = \"\"\n",
    "\n",
    "        \n",
    "        return random.choice(self.available_moves()) if self.available_moves() else None\n",
    "\n",
    "    def available_moves(self):\n",
    "        return [i for i in range(9) if self.board[i] == \"\"]\n",
    "\n",
    "    def check_winner(self, player):\n",
    "        combos = [\n",
    "            [0,1,2], [3,4,5], [6,7,8],\n",
    "            [0,3,6], [1,4,7], [2,5,8],\n",
    "            [0,4,8], [2,4,6]\n",
    "        ]\n",
    "        return any(all(self.board[i] == player for i in combo) for combo in combos)\n",
    "\n",
    "    def check_game_over(self, player):\n",
    "        if self.check_winner(player):\n",
    "            messagebox.showinfo(\"Game Over\", f\"{'You' if player == 'X' else 'AI'} win!\")\n",
    "            self.reset_board()\n",
    "            return True\n",
    "        elif \"\" not in self.board:\n",
    "            messagebox.showinfo(\"Game Over\", \"It's a draw!\")\n",
    "            self.reset_board()\n",
    "            return True\n",
    "        return False\n",
    "\n",
    "    def reset_board(self):\n",
    "        self.board = [\"\"] * 9\n",
    "        for button in self.buttons:\n",
    "            button.config(text=\"\")\n",
    "\n",
    "if __name__ == \"__main__\":\n",
    "    root = tk.Tk()\n",
    "    game = TicTacToeAI(root)\n",
    "    root.mainloop()"
   ]
  }
 ],
 "metadata": {
  "kernelspec": {
   "display_name": "Python 3 (ipykernel)",
   "language": "python",
   "name": "python3"
  },
  "language_info": {
   "codemirror_mode": {
    "name": "ipython",
    "version": 3
   },
   "file_extension": ".py",
   "mimetype": "text/x-python",
   "name": "python",
   "nbconvert_exporter": "python",
   "pygments_lexer": "ipython3",
   "version": "3.13.3"
  }
 },
 "nbformat": 4,
 "nbformat_minor": 5
}
